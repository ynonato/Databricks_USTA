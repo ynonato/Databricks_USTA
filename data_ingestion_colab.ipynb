{
  "nbformat": 4,
  "nbformat_minor": 0,
  "metadata": {
    "colab": {
      "provenance": [],
      "authorship_tag": "ABX9TyMrYysPnUJ8fZBrMhPGpgSb",
      "include_colab_link": true
    },
    "kernelspec": {
      "name": "python3",
      "display_name": "Python 3"
    },
    "language_info": {
      "name": "python"
    }
  },
  "cells": [
    {
      "cell_type": "markdown",
      "metadata": {
        "id": "view-in-github",
        "colab_type": "text"
      },
      "source": [
        "<a href=\"https://colab.research.google.com/github/ynonato/Databricks_USTA/blob/main/data_ingestion_colab.ipynb\" target=\"_parent\"><img src=\"https://colab.research.google.com/assets/colab-badge.svg\" alt=\"Open In Colab\"/></a>"
      ]
    },
    {
      "cell_type": "code",
      "source": [
        "from google.colab import drive\n",
        "drive.mount('/content/drive')"
      ],
      "metadata": {
        "colab": {
          "base_uri": "https://localhost:8080/"
        },
        "id": "yIKnPerSfpsw",
        "outputId": "b148d71a-c64b-46ac-8f9a-6f480945f228"
      },
      "execution_count": 1,
      "outputs": [
        {
          "output_type": "stream",
          "name": "stdout",
          "text": [
            "Drive already mounted at /content/drive; to attempt to forcibly remount, call drive.mount(\"/content/drive\", force_remount=True).\n"
          ]
        }
      ]
    },
    {
      "cell_type": "code",
      "source": [
        "import os\n",
        "\n",
        "ruta_carpeta = \"/content/drive/MyDrive/secop\"\n",
        "os.makedirs(ruta_carpeta, exist_ok=True)"
      ],
      "metadata": {
        "id": "BDD1Y9JkfymL"
      },
      "execution_count": 2,
      "outputs": []
    },
    {
      "cell_type": "markdown",
      "source": [
        "Instalación de dependencias y conexión a la API"
      ],
      "metadata": {
        "id": "9XSpFgAiXv46"
      }
    },
    {
      "cell_type": "code",
      "source": [
        "!pip install sodapy\n",
        "\n",
        "import pandas as pd\n",
        "from sodapy import Socrata\n",
        "import time\n",
        "import hashlib\n",
        "import sqlite3\n",
        "from google.colab import userdata\n",
        "\n",
        "# Obtener los secretos\n",
        "token = userdata.get('TOKEN_APP')\n",
        "codigo_dataset = userdata.get('CODIGO_DATASET')\n",
        "\n",
        "# Cliente autenticado\n",
        "client = Socrata(\"www.datos.gov.co\", token, timeout=1000)"
      ],
      "metadata": {
        "colab": {
          "base_uri": "https://localhost:8080/"
        },
        "id": "ylNAu8wPX0Co",
        "outputId": "0cc4e538-91e6-4362-c2e1-6adc30122117"
      },
      "execution_count": 3,
      "outputs": [
        {
          "output_type": "stream",
          "name": "stdout",
          "text": [
            "Requirement already satisfied: sodapy in /usr/local/lib/python3.11/dist-packages (2.2.0)\n",
            "Requirement already satisfied: requests>=2.28.1 in /usr/local/lib/python3.11/dist-packages (from sodapy) (2.32.3)\n",
            "Requirement already satisfied: charset-normalizer<4,>=2 in /usr/local/lib/python3.11/dist-packages (from requests>=2.28.1->sodapy) (3.4.2)\n",
            "Requirement already satisfied: idna<4,>=2.5 in /usr/local/lib/python3.11/dist-packages (from requests>=2.28.1->sodapy) (3.10)\n",
            "Requirement already satisfied: urllib3<3,>=1.21.1 in /usr/local/lib/python3.11/dist-packages (from requests>=2.28.1->sodapy) (2.5.0)\n",
            "Requirement already satisfied: certifi>=2017.4.17 in /usr/local/lib/python3.11/dist-packages (from requests>=2.28.1->sodapy) (2025.7.14)\n"
          ]
        }
      ]
    },
    {
      "cell_type": "markdown",
      "source": [
        "📥 Descarga paginada de datos"
      ],
      "metadata": {
        "id": "yT6vaS_1YA5d"
      }
    },
    {
      "cell_type": "code",
      "source": [
        "# Parámetros de paginación\n",
        "limit = 500000\n",
        "offset = 0\n",
        "reintentos = 5\n",
        "lista_DF = []\n",
        "\n",
        "print(f\"Descargando datos del dataset: {codigo_dataset}\")\n",
        "\n",
        "terminado = False  # Controla salida del bucle externo\n",
        "\n",
        "while not terminado:\n",
        "    intentos = 0\n",
        "    while intentos < reintentos:\n",
        "        try:\n",
        "            print(f\"Descargando lote desde offset {offset}...\")\n",
        "            query = f\"\"\"\n",
        "            SELECT numero_del_contrato, numero_de_proceso, nit_de_la_entidad,\n",
        "                   documento_proveedor, estado_del_proceso\n",
        "            LIMIT {limit} OFFSET {offset}\n",
        "            \"\"\"\n",
        "            results = client.get(codigo_dataset, query=query)\n",
        "\n",
        "            if not results:\n",
        "                print(\"✅ Carga finalizada.\")\n",
        "                terminado = True  # Salir del bucle externo\n",
        "                break\n",
        "\n",
        "            df_temp = pd.DataFrame(results)\n",
        "\n",
        "            # Guardar en carpeta Drive\n",
        "            ruta_archivo = f\"{ruta_carpeta}/data_{offset}.csv\"\n",
        "            df_temp.to_csv(ruta_archivo, index=False)\n",
        "\n",
        "            lista_DF.append(df_temp)\n",
        "            print(f\"✅ Lote de {len(results)} registros desde offset {offset} guardado en {ruta_archivo}.\")\n",
        "            offset += limit\n",
        "            break\n",
        "\n",
        "        except Exception as e:\n",
        "            intentos += 1\n",
        "            print(f\"⚠️ Error: {e} — Reintentando ({intentos}/{reintentos})...\")\n",
        "            time.sleep(30)\n",
        "    else:\n",
        "        print(\"❌ Máximo número de reintentos alcanzado. Proceso detenido.\")\n",
        "        break\n"
      ],
      "metadata": {
        "colab": {
          "base_uri": "https://localhost:8080/"
        },
        "id": "5WWd3n9Zm5_u",
        "outputId": "00a4116e-9aea-43c4-c7e2-e552db5021f8"
      },
      "execution_count": 4,
      "outputs": [
        {
          "output_type": "stream",
          "name": "stdout",
          "text": [
            "Descargando datos del dataset: rpmr-utcd\n",
            "Descargando lote desde offset 0...\n",
            "✅ Lote de 500000 registros desde offset 0 guardado en /content/drive/MyDrive/secop/data_0.csv.\n",
            "Descargando lote desde offset 500000...\n",
            "✅ Lote de 500000 registros desde offset 500000 guardado en /content/drive/MyDrive/secop/data_500000.csv.\n",
            "Descargando lote desde offset 1000000...\n",
            "✅ Lote de 500000 registros desde offset 1000000 guardado en /content/drive/MyDrive/secop/data_1000000.csv.\n",
            "Descargando lote desde offset 1500000...\n",
            "✅ Lote de 500000 registros desde offset 1500000 guardado en /content/drive/MyDrive/secop/data_1500000.csv.\n",
            "Descargando lote desde offset 2000000...\n",
            "✅ Lote de 500000 registros desde offset 2000000 guardado en /content/drive/MyDrive/secop/data_2000000.csv.\n",
            "Descargando lote desde offset 2500000...\n",
            "✅ Lote de 500000 registros desde offset 2500000 guardado en /content/drive/MyDrive/secop/data_2500000.csv.\n",
            "Descargando lote desde offset 3000000...\n",
            "✅ Lote de 500000 registros desde offset 3000000 guardado en /content/drive/MyDrive/secop/data_3000000.csv.\n",
            "Descargando lote desde offset 3500000...\n",
            "✅ Lote de 500000 registros desde offset 3500000 guardado en /content/drive/MyDrive/secop/data_3500000.csv.\n",
            "Descargando lote desde offset 4000000...\n",
            "✅ Lote de 500000 registros desde offset 4000000 guardado en /content/drive/MyDrive/secop/data_4000000.csv.\n",
            "Descargando lote desde offset 4500000...\n",
            "✅ Lote de 500000 registros desde offset 4500000 guardado en /content/drive/MyDrive/secop/data_4500000.csv.\n",
            "Descargando lote desde offset 5000000...\n",
            "✅ Lote de 500000 registros desde offset 5000000 guardado en /content/drive/MyDrive/secop/data_5000000.csv.\n",
            "Descargando lote desde offset 5500000...\n",
            "✅ Lote de 500000 registros desde offset 5500000 guardado en /content/drive/MyDrive/secop/data_5500000.csv.\n",
            "Descargando lote desde offset 6000000...\n",
            "✅ Lote de 500000 registros desde offset 6000000 guardado en /content/drive/MyDrive/secop/data_6000000.csv.\n",
            "Descargando lote desde offset 6500000...\n",
            "✅ Lote de 500000 registros desde offset 6500000 guardado en /content/drive/MyDrive/secop/data_6500000.csv.\n",
            "Descargando lote desde offset 7000000...\n",
            "✅ Lote de 500000 registros desde offset 7000000 guardado en /content/drive/MyDrive/secop/data_7000000.csv.\n",
            "Descargando lote desde offset 7500000...\n",
            "✅ Lote de 500000 registros desde offset 7500000 guardado en /content/drive/MyDrive/secop/data_7500000.csv.\n",
            "Descargando lote desde offset 8000000...\n",
            "✅ Lote de 500000 registros desde offset 8000000 guardado en /content/drive/MyDrive/secop/data_8000000.csv.\n",
            "Descargando lote desde offset 8500000...\n",
            "✅ Lote de 500000 registros desde offset 8500000 guardado en /content/drive/MyDrive/secop/data_8500000.csv.\n",
            "Descargando lote desde offset 9000000...\n",
            "✅ Lote de 500000 registros desde offset 9000000 guardado en /content/drive/MyDrive/secop/data_9000000.csv.\n",
            "Descargando lote desde offset 9500000...\n",
            "✅ Lote de 500000 registros desde offset 9500000 guardado en /content/drive/MyDrive/secop/data_9500000.csv.\n",
            "Descargando lote desde offset 10000000...\n",
            "✅ Lote de 500000 registros desde offset 10000000 guardado en /content/drive/MyDrive/secop/data_10000000.csv.\n",
            "Descargando lote desde offset 10500000...\n",
            "✅ Lote de 500000 registros desde offset 10500000 guardado en /content/drive/MyDrive/secop/data_10500000.csv.\n",
            "Descargando lote desde offset 11000000...\n",
            "✅ Lote de 500000 registros desde offset 11000000 guardado en /content/drive/MyDrive/secop/data_11000000.csv.\n",
            "Descargando lote desde offset 11500000...\n",
            "✅ Lote de 500000 registros desde offset 11500000 guardado en /content/drive/MyDrive/secop/data_11500000.csv.\n",
            "Descargando lote desde offset 12000000...\n",
            "✅ Lote de 500000 registros desde offset 12000000 guardado en /content/drive/MyDrive/secop/data_12000000.csv.\n",
            "Descargando lote desde offset 12500000...\n",
            "✅ Lote de 500000 registros desde offset 12500000 guardado en /content/drive/MyDrive/secop/data_12500000.csv.\n",
            "Descargando lote desde offset 13000000...\n",
            "✅ Lote de 500000 registros desde offset 13000000 guardado en /content/drive/MyDrive/secop/data_13000000.csv.\n",
            "Descargando lote desde offset 13500000...\n",
            "✅ Lote de 500000 registros desde offset 13500000 guardado en /content/drive/MyDrive/secop/data_13500000.csv.\n",
            "Descargando lote desde offset 14000000...\n",
            "✅ Lote de 500000 registros desde offset 14000000 guardado en /content/drive/MyDrive/secop/data_14000000.csv.\n",
            "Descargando lote desde offset 14500000...\n",
            "✅ Lote de 500000 registros desde offset 14500000 guardado en /content/drive/MyDrive/secop/data_14500000.csv.\n",
            "Descargando lote desde offset 15000000...\n",
            "✅ Lote de 500000 registros desde offset 15000000 guardado en /content/drive/MyDrive/secop/data_15000000.csv.\n",
            "Descargando lote desde offset 15500000...\n",
            "✅ Lote de 500000 registros desde offset 15500000 guardado en /content/drive/MyDrive/secop/data_15500000.csv.\n",
            "Descargando lote desde offset 16000000...\n",
            "✅ Lote de 500000 registros desde offset 16000000 guardado en /content/drive/MyDrive/secop/data_16000000.csv.\n",
            "Descargando lote desde offset 16500000...\n",
            "✅ Lote de 500000 registros desde offset 16500000 guardado en /content/drive/MyDrive/secop/data_16500000.csv.\n",
            "Descargando lote desde offset 17000000...\n",
            "✅ Lote de 500000 registros desde offset 17000000 guardado en /content/drive/MyDrive/secop/data_17000000.csv.\n",
            "Descargando lote desde offset 17500000...\n",
            "✅ Lote de 500000 registros desde offset 17500000 guardado en /content/drive/MyDrive/secop/data_17500000.csv.\n",
            "Descargando lote desde offset 18000000...\n",
            "✅ Lote de 500000 registros desde offset 18000000 guardado en /content/drive/MyDrive/secop/data_18000000.csv.\n",
            "Descargando lote desde offset 18500000...\n",
            "✅ Lote de 500000 registros desde offset 18500000 guardado en /content/drive/MyDrive/secop/data_18500000.csv.\n",
            "Descargando lote desde offset 19000000...\n",
            "✅ Lote de 500000 registros desde offset 19000000 guardado en /content/drive/MyDrive/secop/data_19000000.csv.\n",
            "Descargando lote desde offset 19500000...\n",
            "✅ Lote de 49032 registros desde offset 19500000 guardado en /content/drive/MyDrive/secop/data_19500000.csv.\n",
            "Descargando lote desde offset 20000000...\n",
            "✅ Carga finalizada.\n"
          ]
        }
      ]
    },
    {
      "cell_type": "code",
      "source": [
        "import pandas as pd\n",
        "import os\n",
        "\n",
        "ruta_carpeta = \"/content/drive/MyDrive/secop\"\n",
        "lista_DF = []\n",
        "\n",
        "# Listar todos los archivos CSV en la carpeta\n",
        "archivos = [f for f in os.listdir(ruta_carpeta) if f.endswith('.csv')]\n",
        "\n",
        "# Leer cada archivo y agregarlo a la lista\n",
        "for archivo in archivos:\n",
        "    ruta_archivo = os.path.join(ruta_carpeta, archivo)\n",
        "    print(f\"Cargando {ruta_archivo} ...\")\n",
        "    df_temp = pd.read_csv(ruta_archivo)\n",
        "    lista_DF.append(df_temp)\n",
        "\n",
        "# Concatenar todos los DataFrames\n",
        "DF_secop = pd.concat(lista_DF, ignore_index=True)\n",
        "print(f\"DataFrame reconstruido con {len(DF_secop)} registros.\")\n"
      ],
      "metadata": {
        "colab": {
          "base_uri": "https://localhost:8080/"
        },
        "id": "k8X926KMzZIX",
        "outputId": "41ada7c8-c57f-4582-f435-e098c4718400"
      },
      "execution_count": 5,
      "outputs": [
        {
          "output_type": "stream",
          "name": "stdout",
          "text": [
            "Cargando /content/drive/MyDrive/secop/data_0.csv ...\n",
            "Cargando /content/drive/MyDrive/secop/data_500000.csv ...\n",
            "Cargando /content/drive/MyDrive/secop/data_1000000.csv ...\n",
            "Cargando /content/drive/MyDrive/secop/data_1500000.csv ...\n",
            "Cargando /content/drive/MyDrive/secop/data_2000000.csv ...\n",
            "Cargando /content/drive/MyDrive/secop/data_2500000.csv ...\n",
            "Cargando /content/drive/MyDrive/secop/data_3000000.csv ...\n",
            "Cargando /content/drive/MyDrive/secop/data_3500000.csv ...\n",
            "Cargando /content/drive/MyDrive/secop/data_4000000.csv ...\n",
            "Cargando /content/drive/MyDrive/secop/data_4500000.csv ...\n",
            "Cargando /content/drive/MyDrive/secop/data_5000000.csv ...\n",
            "Cargando /content/drive/MyDrive/secop/data_5500000.csv ...\n",
            "Cargando /content/drive/MyDrive/secop/data_6000000.csv ...\n",
            "Cargando /content/drive/MyDrive/secop/data_6500000.csv ...\n",
            "Cargando /content/drive/MyDrive/secop/data_7000000.csv ...\n",
            "Cargando /content/drive/MyDrive/secop/data_7500000.csv ...\n",
            "Cargando /content/drive/MyDrive/secop/data_8000000.csv ...\n",
            "Cargando /content/drive/MyDrive/secop/data_8500000.csv ...\n",
            "Cargando /content/drive/MyDrive/secop/data_9000000.csv ...\n",
            "Cargando /content/drive/MyDrive/secop/data_9500000.csv ...\n",
            "Cargando /content/drive/MyDrive/secop/data_10000000.csv ...\n",
            "Cargando /content/drive/MyDrive/secop/data_10500000.csv ...\n",
            "Cargando /content/drive/MyDrive/secop/data_11000000.csv ...\n",
            "Cargando /content/drive/MyDrive/secop/data_11500000.csv ...\n",
            "Cargando /content/drive/MyDrive/secop/data_12000000.csv ...\n",
            "Cargando /content/drive/MyDrive/secop/data_12500000.csv ...\n",
            "Cargando /content/drive/MyDrive/secop/data_13000000.csv ...\n",
            "Cargando /content/drive/MyDrive/secop/data_13500000.csv ...\n",
            "Cargando /content/drive/MyDrive/secop/data_14000000.csv ...\n",
            "Cargando /content/drive/MyDrive/secop/data_14500000.csv ...\n",
            "Cargando /content/drive/MyDrive/secop/data_15000000.csv ...\n",
            "Cargando /content/drive/MyDrive/secop/data_15500000.csv ...\n",
            "Cargando /content/drive/MyDrive/secop/data_16000000.csv ...\n",
            "Cargando /content/drive/MyDrive/secop/data_16500000.csv ...\n",
            "Cargando /content/drive/MyDrive/secop/data_17000000.csv ...\n",
            "Cargando /content/drive/MyDrive/secop/data_17500000.csv ...\n",
            "Cargando /content/drive/MyDrive/secop/data_18000000.csv ...\n",
            "Cargando /content/drive/MyDrive/secop/data_18500000.csv ...\n",
            "Cargando /content/drive/MyDrive/secop/data_19000000.csv ...\n",
            "Cargando /content/drive/MyDrive/secop/data_19500000.csv ...\n",
            "DataFrame reconstruido con 19549032 registros.\n"
          ]
        }
      ]
    },
    {
      "cell_type": "markdown",
      "source": [
        "Generación de ID único (consistencia y control de duplicados)"
      ],
      "metadata": {
        "id": "huwiUJSnYLLn"
      }
    },
    {
      "cell_type": "code",
      "source": [
        "import hashlib\n",
        "\n",
        "# Concatenar todas las columnas como string para generar un identificador único\n",
        "DF_secop['concatenar'] = DF_secop.astype(str).agg('||'.join, axis=1)\n",
        "\n",
        "# Crear hash SHA256 para generar el ID único\n",
        "DF_secop['id_unico'] = DF_secop['concatenar'].apply(\n",
        "    lambda x: hashlib.sha256(x.encode('utf-8')).hexdigest()\n",
        ")\n",
        "\n",
        "# Eliminar columna auxiliar (opcional)\n",
        "DF_secop.drop(columns=['concatenar'], inplace=True)\n",
        "\n",
        "print(f\"✅ Se crearon identificadores únicos para {len(DF_secop):,} registros.\")\n"
      ],
      "metadata": {
        "colab": {
          "base_uri": "https://localhost:8080/"
        },
        "id": "kaEYRazc9m-y",
        "outputId": "545415ba-171b-4e29-ac7d-d46682f86c6c"
      },
      "execution_count": 6,
      "outputs": [
        {
          "output_type": "stream",
          "name": "stdout",
          "text": [
            "✅ Se crearon identificadores únicos para 19,549,032 registros.\n"
          ]
        }
      ]
    },
    {
      "cell_type": "markdown",
      "source": [
        "💾 Almacenamiento organizado en SQLite"
      ],
      "metadata": {
        "id": "R4cj7yJMYV9B"
      }
    },
    {
      "cell_type": "code",
      "source": [
        "import sqlite3\n",
        "\n",
        "ruta_db = '/content/drive/MyDrive/secop/secop_id.db'\n",
        "conn = sqlite3.connect(ruta_db)\n",
        "\n",
        "# Guardar datos limpios\n",
        "DF_secop.to_sql('secop_id', conn, if_exists='replace', index=False)\n",
        "print(f\"✅ Datos guardados correctamente en {ruta_db}\")\n",
        "conn.close()\n"
      ],
      "metadata": {
        "colab": {
          "base_uri": "https://localhost:8080/"
        },
        "id": "3U8u27cn0bR-",
        "outputId": "53987bdb-2ae0-4ccf-9852-a1ed654feb7e"
      },
      "execution_count": 7,
      "outputs": [
        {
          "output_type": "stream",
          "name": "stdout",
          "text": [
            "✅ Datos guardados correctamente en /content/drive/MyDrive/secop/secop_id.db\n"
          ]
        }
      ]
    }
  ]
}