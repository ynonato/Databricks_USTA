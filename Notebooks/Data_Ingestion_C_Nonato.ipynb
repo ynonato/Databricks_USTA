{
 "cells": [
  {
   "cell_type": "markdown",
   "metadata": {
    "application/vnd.databricks.v1+cell": {
     "cellMetadata": {},
     "inputWidgets": {},
     "nuid": "551e8c70-800a-409b-8d3d-de77830114f9",
     "showTitle": false,
     "tableResultSettingsMap": {},
     "title": ""
    }
   },
   "source": [
    "# Notebook Data Ingestion\n",
    "\n",
    "In this section, we will retrieve data from \"Datos abiertos\"."
   ]
  },
  {
   "cell_type": "markdown",
   "metadata": {
    "application/vnd.databricks.v1+cell": {
     "cellMetadata": {},
     "inputWidgets": {},
     "nuid": "506da585-4657-427f-9323-770db3987ab7",
     "showTitle": false,
     "tableResultSettingsMap": {},
     "title": ""
    }
   },
   "source": [
    "#### Initial data load"
   ]
  },
  {
   "cell_type": "code",
   "execution_count": 0,
   "metadata": {
    "application/vnd.databricks.v1+cell": {
     "cellMetadata": {
      "byteLimit": 2048000,
      "rowLimit": 10000
     },
     "inputWidgets": {},
     "nuid": "17eb15bd-65e1-4ac9-b909-90dbe2d71576",
     "showTitle": false,
     "tableResultSettingsMap": {
      "0": {
       "dataGridStateBlob": "{\"version\":1,\"tableState\":{\"columnPinning\":{\"left\":[\"#row_number#\"],\"right\":[]},\"columnSizing\":{\"url_contrato\":579},\"columnVisibility\":{}},\"settings\":{\"columns\":{\"url_contrato\":{\"format\":{\"preset\":\"string-preset-url\"}}}},\"syncTimestamp\":1751772867521}",
       "filterBlob": null,
       "queryPlanFiltersBlob": null,
       "tableResultIndex": 0
      }
     },
     "title": ""
    }
   },
   "outputs": [],
   "source": [
    "\n",
    "# Paso 1: Descargar los datos con requests y leerlos en pandas\n",
    "import requests\n",
    "import pandas as pd\n",
    "from io import StringIO\n",
    "from pyspark.sql import SparkSession\n",
    "from pyspark.sql.functions import col, when\n",
    "\n",
    "# Iniciar Spark\n",
    "spark = SparkSession.builder.getOrCreate()\n",
    "\n",
    "# URLs para los primeros 100,000 registros\n",
    "url_secop = \"https://www.datos.gov.co/resource/rpmr-utcd.csv?$limit=100000\"\n",
    "url_men = \"https://www.datos.gov.co/resource/nudc-7mev.csv?$limit=100000\"\n",
    " \n",
    "# Descargar contenido\n",
    "response_secop = requests.get(url_secop)\n",
    "response_men = requests.get(url_men)\n",
    "\n",
    "# Leer como pandas y forzar todo a string (para evitar errores de tipado)\n",
    "df_secop_pd = pd.read_csv(StringIO(response_secop.text)).astype(str)\n",
    "df_men_pd = pd.read_csv(StringIO(response_men.text)).astype(str)\n",
    "\n",
    "# Convertir pandas a Spark\n",
    "df_secop = spark.createDataFrame(df_secop_pd)\n",
    "df_men = spark.createDataFrame(df_men_pd)\n",
    "\n",
    "# Mostrar en Databricks\n",
    "display(df_secop)\n",
    "display(df_men)"
   ]
  },
  {
   "cell_type": "code",
   "execution_count": 0,
   "metadata": {
    "application/vnd.databricks.v1+cell": {
     "cellMetadata": {
      "byteLimit": 2048000,
      "rowLimit": 10000
     },
     "inputWidgets": {},
     "nuid": "eea1c354-1e39-414a-84e6-6d6896299167",
     "showTitle": false,
     "tableResultSettingsMap": {},
     "title": ""
    }
   },
   "outputs": [],
   "source": [
    "df_secop.count()\n"
   ]
  },
  {
   "cell_type": "code",
   "execution_count": 0,
   "metadata": {
    "application/vnd.databricks.v1+cell": {
     "cellMetadata": {
      "byteLimit": 2048000,
      "implicitDf": true,
      "rowLimit": 10000
     },
     "inputWidgets": {},
     "nuid": "a7d5d83a-2a27-4ef7-b3d5-dcff48ac8d0f",
     "showTitle": false,
     "tableResultSettingsMap": {},
     "title": ""
    }
   },
   "outputs": [],
   "source": [
    "%sql \n",
    "-- CREATE CATALOG main;\n",
    "-- CREATE SCHEMA IF NOT EXISTS main.diplomado_datos;"
   ]
  },
  {
   "cell_type": "code",
   "execution_count": 0,
   "metadata": {
    "application/vnd.databricks.v1+cell": {
     "cellMetadata": {
      "byteLimit": 2048000,
      "rowLimit": 10000
     },
     "inputWidgets": {},
     "nuid": "8ab3fc12-0ff9-45fe-9c98-d0d569d39ae3",
     "showTitle": false,
     "tableResultSettingsMap": {},
     "title": ""
    }
   },
   "outputs": [],
   "source": [
    "spark.sql(\"USE CATALOG main\")"
   ]
  },
  {
   "cell_type": "code",
   "execution_count": 0,
   "metadata": {
    "application/vnd.databricks.v1+cell": {
     "cellMetadata": {
      "byteLimit": 2048000,
      "rowLimit": 10000
     },
     "inputWidgets": {},
     "nuid": "088655c9-2c1c-495f-947a-56d075d72f7d",
     "showTitle": false,
     "tableResultSettingsMap": {},
     "title": ""
    }
   },
   "outputs": [],
   "source": [
    "from pyspark.sql.functions import col, when\n",
    "\n",
    "# 1. Define las columnas numéricas que tienes en secop según tu esquema\n",
    "columnas_numericas = [\"codigo_entidad_en_secop\", \"valor_contrato\"]\n",
    "\n",
    "# 2. Mostrar valores no numéricos en cada columna numérica (solo para secop)\n",
    "for columna in columnas_numericas:\n",
    "    print(f\"Valores no numéricos en columna '{columna}':\")\n",
    "    df_secop.filter(~col(columna).rlike(\"^[0-9]+$\")).select(columna).distinct().show(truncate=False)\n",
    "\n",
    "# 3. Función safe_cast para casteo seguro de todo el dataframe según esquema destino\n",
    "def safe_cast(df, target_schema):\n",
    "    df_casted = df\n",
    "    for field in target_schema.fields:\n",
    "        name = field.name\n",
    "        dtype = field.dataType\n",
    "        if dtype.simpleString() in ['int', 'bigint', 'double', 'float', 'long']:\n",
    "            df_casted = df_casted.withColumn(\n",
    "                name,\n",
    "                when(col(name).rlike(\"^[0-9]+$\"), col(name).cast(dtype)).otherwise(None)\n",
    "            )\n",
    "        else:\n",
    "            df_casted = df_casted.withColumn(name, col(name).cast(dtype))\n",
    "    return df_casted\n",
    "\n",
    "# 4. Obtener esquemas separados para cada tabla\n",
    "target_schema_secop = spark.table(\"main.diplomado_datos.secop\").schema\n",
    "target_schema_men = spark.table(\"main.diplomado_datos.men_estadisticas\").schema\n",
    "\n",
    "# 5. Aplicar safe_cast a cada DataFrame con su esquema correspondiente\n",
    "df_secop_aligned = safe_cast(df_secop, target_schema_secop)\n",
    "df_men_aligned = safe_cast(df_men, target_schema_men)\n",
    "\n",
    "print(\"Validación con casteo seguro completados.\")\n"
   ]
  },
  {
   "cell_type": "code",
   "execution_count": 0,
   "metadata": {
    "application/vnd.databricks.v1+cell": {
     "cellMetadata": {
      "byteLimit": 2048000,
      "rowLimit": 10000
     },
     "inputWidgets": {},
     "nuid": "0e06876c-6550-48e5-b793-e399d74a8380",
     "showTitle": false,
     "tableResultSettingsMap": {},
     "title": ""
    }
   },
   "outputs": [],
   "source": [
    "# 6. Guardar las tablas con overwrite\n",
    "df_secop_aligned.write.format(\"delta\").mode(\"overwrite\").option(\"mergeSchema\", \"true\").saveAsTable(\"main.diplomado_datos.secop\")\n",
    "\n",
    "df_men_aligned.write.format(\"delta\").mode(\"overwrite\").option(\"mergeSchema\", \"true\").saveAsTable(\"main.diplomado_datos.men_estadisticas\")\n",
    "\n",
    "print(\"¡Tablas guardadas exitosamente en el catálogo 'main', esquema 'diplomado_datos'!\")"
   ]
  },
  {
   "cell_type": "markdown",
   "metadata": {
    "application/vnd.databricks.v1+cell": {
     "cellMetadata": {},
     "inputWidgets": {},
     "nuid": "d56a7379-c85b-4659-a51e-867d6f3669a3",
     "showTitle": false,
     "tableResultSettingsMap": {},
     "title": ""
    }
   },
   "source": [
    "#### Complete records download"
   ]
  },
  {
   "cell_type": "code",
   "execution_count": 0,
   "metadata": {
    "application/vnd.databricks.v1+cell": {
     "cellMetadata": {
      "byteLimit": 2048000,
      "rowLimit": 10000
     },
     "inputWidgets": {},
     "nuid": "1ef52a07-5cca-454f-84d2-2c29f22c2a6c",
     "showTitle": false,
     "tableResultSettingsMap": {},
     "title": ""
    }
   },
   "outputs": [],
   "source": [
    "import requests\n",
    "\n",
    "# Consultar cuántos registros hay actualmente en el dataset SECOP\n",
    "count_url = \"https://www.datos.gov.co/resource/rpmr-utcd.json?$select=count(*)\"\n",
    "response = requests.get(count_url)\n",
    "\n",
    "if response.status_code == 200:\n",
    "    total_records = int(response.json()[0]['count'])\n",
    "    print(f\"Total de registros detectados: {total_records}\")\n",
    "else:\n",
    "    print(\"No se pudo obtener el total de registros. Usando valor por defecto.\")\n",
    "\n",
    "total_records = 19446266  # Valor fijo como respaldo\n",
    "    "
   ]
  },
  {
   "cell_type": "code",
   "execution_count": 0,
   "metadata": {
    "application/vnd.databricks.v1+cell": {
     "cellMetadata": {
      "byteLimit": 2048000,
      "rowLimit": 10000
     },
     "inputWidgets": {},
     "nuid": "f3a3954f-2b61-425f-83a3-bb700e02b927",
     "showTitle": false,
     "tableResultSettingsMap": {},
     "title": ""
    }
   },
   "outputs": [],
   "source": [
    "## AJUSTES PARA EJECUCION MANUAL DESDE DONDE FALLA EL JOB\n",
    "\n",
    "# Paso 1: Descargar los datos con requests y leerlos en pandas\n",
    "import requests\n",
    "import pandas as pd\n",
    "from io import StringIO\n",
    "from pyspark.sql import SparkSession\n",
    "from pyspark.sql.functions import col, when\n",
    "\n",
    "# URLs para los primeros 100,000 registros\n",
    "url_secop = \"https://www.datos.gov.co/resource/rpmr-utcd.csv?$limit=100000\"\n",
    "url_men = \"https://www.datos.gov.co/resource/nudc-7mev.csv?$limit=100000\"\n",
    "\n",
    "offset = 16800000\n",
    "total_records = 19446266  # Valor fijo como respaldo"
   ]
  },
  {
   "cell_type": "code",
   "execution_count": 0,
   "metadata": {
    "application/vnd.databricks.v1+cell": {
     "cellMetadata": {
      "byteLimit": 2048000,
      "rowLimit": 10000
     },
     "inputWidgets": {},
     "nuid": "9cb1cc29-1f2f-453b-8157-905e74e6200f",
     "showTitle": false,
     "tableResultSettingsMap": {},
     "title": ""
    }
   },
   "outputs": [],
   "source": [
    "import time\n",
    "from pyspark.sql.functions import col, when\n",
    "\n",
    "limit = 100000\n",
    "# offset = 100000\n",
    "\n",
    "## print(f\"Iniciando la carga desde offset {offset}\")\n",
    "\n",
    "def safe_cast(df, target_schema):\n",
    "    df_casted = df\n",
    "    for field in target_schema.fields:\n",
    "        name = field.name\n",
    "        dtype = field.dataType\n",
    "        if dtype.simpleString() in ['int', 'bigint', 'double', 'float', 'long']:\n",
    "            df_casted = df_casted.withColumn(\n",
    "                name,\n",
    "                when(col(name).rlike(\"^[0-9]+$\"), col(name).cast(dtype)).otherwise(None)\n",
    "            )\n",
    "        else:\n",
    "            df_casted = df_casted.withColumn(name, col(name).cast(dtype))\n",
    "    return df_casted\n",
    "\n",
    "start_time = time.time()  # Tiempo inicio\n",
    "\n",
    "while offset < total_records:\n",
    "    print(f\"Descargando registros desde {offset} hasta {offset + limit}...\")\n",
    "\n",
    "    url_secop = f\"https://www.datos.gov.co/resource/rpmr-utcd.csv?$limit={limit}&$offset={offset}\"\n",
    "    response_secop = requests.get(url_secop)\n",
    "\n",
    "    df_secop_pd = pd.read_csv(\n",
    "        StringIO(response_secop.text),\n",
    "        delimiter=',',\n",
    "        header=0,\n",
    "        dtype=str,\n",
    "        low_memory=False\n",
    "    )\n",
    "    \n",
    "    if df_secop_pd.empty:\n",
    "        print(\"No hay más datos para descargar.\")\n",
    "        break\n",
    "\n",
    "    df_secop_spark = spark.createDataFrame(df_secop_pd.astype(str))\n",
    "\n",
    "    target_schema = spark.table(\"main.diplomado_datos.secop\").schema\n",
    "\n",
    "    df_secop_aligned = safe_cast(df_secop_spark, target_schema)\n",
    "\n",
    "    df_secop_aligned.write.format(\"delta\") \\\n",
    "        .mode(\"append\") \\\n",
    "        .option(\"mergeSchema\", \"true\") \\\n",
    "        .saveAsTable(\"main.diplomado_datos.secop\")\n",
    "\n",
    "    print(f\"Datos del offset {offset} guardados.\")\n",
    "    offset += limit\n",
    "\n",
    "end_time = time.time()  # Tiempo fin\n",
    "\n",
    "total_seconds = end_time - start_time\n",
    "print(f\"Carga completa de SECOP en {total_seconds:.2f} segundos.\")\n",
    "\n",
    "# Opcional: formato legible horas, minutos, segundos\n",
    "hours = int(total_seconds // 3600)\n",
    "minutes = int((total_seconds % 3600) // 60)\n",
    "seconds = int(total_seconds % 60)\n",
    "\n",
    "print(f\"Tiempo total: {hours}h {minutes}m {seconds}s\")\n"
   ]
  },
  {
   "cell_type": "markdown",
   "metadata": {
    "application/vnd.databricks.v1+cell": {
     "cellMetadata": {},
     "inputWidgets": {},
     "nuid": "a16e9e8f-566c-4293-8185-9a3b407ab263",
     "showTitle": false,
     "tableResultSettingsMap": {},
     "title": ""
    }
   },
   "source": [
    "#### Data Exploration"
   ]
  },
  {
   "cell_type": "code",
   "execution_count": 0,
   "metadata": {
    "application/vnd.databricks.v1+cell": {
     "cellMetadata": {
      "byteLimit": 2048000,
      "rowLimit": 10000
     },
     "inputWidgets": {},
     "nuid": "1e747588-4af2-4b90-810c-08926942b8b4",
     "showTitle": false,
     "tableResultSettingsMap": {},
     "title": ""
    }
   },
   "outputs": [],
   "source": [
    "df_secop = spark.table(\"main.diplomado_datos.secop\")\n",
    "df_secop.printSchema()"
   ]
  },
  {
   "cell_type": "code",
   "execution_count": 0,
   "metadata": {
    "application/vnd.databricks.v1+cell": {
     "cellMetadata": {
      "byteLimit": 2048000,
      "rowLimit": 10000
     },
     "inputWidgets": {},
     "nuid": "991458f6-b04b-4c44-8620-13ca7cecfcbc",
     "showTitle": false,
     "tableResultSettingsMap": {},
     "title": ""
    }
   },
   "outputs": [],
   "source": [
    "df_secop.select(\"nivel_entidad\").distinct().orderBy(\"nivel_entidad\").show(100, truncate=False)"
   ]
  },
  {
   "cell_type": "code",
   "execution_count": 0,
   "metadata": {
    "application/vnd.databricks.v1+cell": {
     "cellMetadata": {
      "byteLimit": 2048000,
      "rowLimit": 10000
     },
     "inputWidgets": {},
     "nuid": "9ddc6630-5edb-4e9f-84ea-dbf005c88486",
     "showTitle": false,
     "tableResultSettingsMap": {},
     "title": ""
    }
   },
   "outputs": [],
   "source": [
    "df_secop.select(\"departamento_entidad\").distinct().orderBy(\"departamento_entidad\").show(100, truncate=False)"
   ]
  },
  {
   "cell_type": "code",
   "execution_count": 0,
   "metadata": {
    "application/vnd.databricks.v1+cell": {
     "cellMetadata": {
      "byteLimit": 2048000,
      "rowLimit": 10000
     },
     "inputWidgets": {},
     "nuid": "07be43c0-e516-46ed-9c1e-b751156448ab",
     "showTitle": false,
     "tableResultSettingsMap": {},
     "title": ""
    }
   },
   "outputs": [],
   "source": [
    "df_secop.select(\"tipo_documento_proveedor\").distinct().orderBy(\"tipo_documento_proveedor\").show(100, truncate=False)"
   ]
  },
  {
   "cell_type": "code",
   "execution_count": 0,
   "metadata": {
    "application/vnd.databricks.v1+cell": {
     "cellMetadata": {
      "byteLimit": 2048000,
      "rowLimit": 10000
     },
     "inputWidgets": {},
     "nuid": "a14695d4-1f2b-4826-b23d-5ddab05fdb6c",
     "showTitle": false,
     "tableResultSettingsMap": {},
     "title": ""
    }
   },
   "outputs": [],
   "source": [
    "df_secop.select(\"modalidad_de_contrataci_n\").distinct().orderBy(\"modalidad_de_contrataci_n\").show(100, truncate=False)"
   ]
  },
  {
   "cell_type": "code",
   "execution_count": 0,
   "metadata": {
    "application/vnd.databricks.v1+cell": {
     "cellMetadata": {
      "byteLimit": 2048000,
      "rowLimit": 10000
     },
     "inputWidgets": {},
     "nuid": "ef6b6cca-ffce-4a2f-94bd-9894db1741ef",
     "showTitle": false,
     "tableResultSettingsMap": {},
     "title": ""
    }
   },
   "outputs": [],
   "source": [
    "df_secop.select(\"origen\").distinct().orderBy(\"origen\").show(100, truncate=False)"
   ]
  },
  {
   "cell_type": "markdown",
   "metadata": {
    "application/vnd.databricks.v1+cell": {
     "cellMetadata": {},
     "inputWidgets": {},
     "nuid": "757c34f6-f423-4167-bdc9-4de842eabf71",
     "showTitle": false,
     "tableResultSettingsMap": {},
     "title": ""
    }
   },
   "source": [
    "#### Data cleaning"
   ]
  },
  {
   "cell_type": "code",
   "execution_count": 0,
   "metadata": {
    "application/vnd.databricks.v1+cell": {
     "cellMetadata": {
      "byteLimit": 2048000,
      "rowLimit": 10000
     },
     "inputWidgets": {},
     "nuid": "95d27e02-3f35-405b-a737-229b6abb5e60",
     "showTitle": false,
     "tableResultSettingsMap": {},
     "title": ""
    }
   },
   "outputs": [],
   "source": [
    "# User-Defined Function\n",
    "\n",
    "from pyspark.sql.functions import udf, trim\n",
    "from pyspark.sql.types import StringType\n",
    "\n",
    "# UDF para capitalizar cada palabra y conservar tildes\n",
    "def capitalizar(texto):\n",
    "    if texto is None:\n",
    "        return None\n",
    "    return ' '.join(word.capitalize() for word in texto.strip().split())\n",
    "\n",
    "capitalizar_udf = udf(capitalizar, StringType())"
   ]
  },
  {
   "cell_type": "code",
   "execution_count": 0,
   "metadata": {
    "application/vnd.databricks.v1+cell": {
     "cellMetadata": {
      "byteLimit": 2048000,
      "rowLimit": 10000
     },
     "inputWidgets": {},
     "nuid": "85204248-54bb-40a0-b42d-7f0c15ffbb3d",
     "showTitle": false,
     "tableResultSettingsMap": {},
     "title": ""
    }
   },
   "outputs": [],
   "source": [
    "columnas_a_limpieza = [\n",
    "    \"nivel_entidad\",\n",
    "    \"nombre_de_la_entidad\",\n",
    "    \"nit_de_la_entidad\",\n",
    "    \"departamento_entidad\",\n",
    "    \"municipio_entidad\",\n",
    "    \"estado_del_proceso\",\n",
    "    \"modalidad_de_contrataci_n\",\n",
    "    \"tipo_de_contrato\",\n",
    "    \"nom_raz_social_contratista\",\n",
    "    \"tipo_documento_proveedor\"\n",
    "]\n"
   ]
  },
  {
   "cell_type": "code",
   "execution_count": 0,
   "metadata": {
    "application/vnd.databricks.v1+cell": {
     "cellMetadata": {
      "byteLimit": 2048000,
      "rowLimit": 10000
     },
     "inputWidgets": {},
     "nuid": "e546dcea-b3d1-41d7-9597-8f2003b44c06",
     "showTitle": false,
     "tableResultSettingsMap": {},
     "title": ""
    }
   },
   "outputs": [],
   "source": [
    "for col_name in columnas_a_limpieza:\n",
    "    df_secop = df_secop.withColumn(\n",
    "        col_name,\n",
    "        capitalizar_udf(trim(df_secop[col_name]))\n",
    "    )"
   ]
  },
  {
   "cell_type": "code",
   "execution_count": 0,
   "metadata": {
    "application/vnd.databricks.v1+cell": {
     "cellMetadata": {
      "byteLimit": 2048000,
      "rowLimit": 10000
     },
     "inputWidgets": {},
     "nuid": "5c06dcc4-c80d-466f-8a51-d89e56da6396",
     "showTitle": false,
     "tableResultSettingsMap": {},
     "title": ""
    }
   },
   "outputs": [],
   "source": [
    "df_secop.select(\"municipio_entidad\").distinct().orderBy(\"municipio_entidad\").show(100, truncate=False)\n"
   ]
  },
  {
   "cell_type": "markdown",
   "metadata": {
    "application/vnd.databricks.v1+cell": {
     "cellMetadata": {},
     "inputWidgets": {},
     "nuid": "424b58b7-1b35-4251-875a-32d2903d6257",
     "showTitle": false,
     "tableResultSettingsMap": {},
     "title": ""
    }
   },
   "source": [
    "#### Manual adjustments"
   ]
  },
  {
   "cell_type": "code",
   "execution_count": 0,
   "metadata": {
    "application/vnd.databricks.v1+cell": {
     "cellMetadata": {
      "byteLimit": 2048000,
      "rowLimit": 10000
     },
     "inputWidgets": {},
     "nuid": "8c31b128-a20a-442c-8f2d-c8b7d35b23a9",
     "showTitle": false,
     "tableResultSettingsMap": {},
     "title": ""
    }
   },
   "outputs": [],
   "source": [
    "from pyspark.sql.functions import when, col\n",
    "\n",
    "df_secop = df_secop.withColumn(\n",
    "    \"departamento_entidad\",\n",
    "    when(col(\"departamento_entidad\") == \"Distrito Capital De Bogotá\", \"Bogotá D.C.\")\n",
    "    .otherwise(col(\"departamento_entidad\"))\n",
    ")"
   ]
  },
  {
   "cell_type": "code",
   "execution_count": 0,
   "metadata": {
    "application/vnd.databricks.v1+cell": {
     "cellMetadata": {
      "byteLimit": 2048000,
      "rowLimit": 10000
     },
     "inputWidgets": {},
     "nuid": "cabe711e-5acc-4514-9760-6f2cc46348bc",
     "showTitle": false,
     "tableResultSettingsMap": {},
     "title": ""
    }
   },
   "outputs": [],
   "source": [
    "df_secop = df_secop.withColumn(\n",
    "    \"tipo_de_contrato\",\n",
    "    when(col(\"tipo_de_contrato\") == \"Suministros\", \"Suministro\")\n",
    "    .otherwise(col(\"tipo_de_contrato\"))\n",
    ")"
   ]
  }
 ],
 "metadata": {
  "application/vnd.databricks.v1+notebook": {
   "computePreferences": null,
   "dashboards": [],
   "environmentMetadata": {
    "base_environment": "",
    "environment_version": "2"
   },
   "inputWidgetPreferences": null,
   "language": "python",
   "notebookMetadata": {
    "mostRecentlyExecutedCommandWithImplicitDF": {
     "commandId": -1,
     "dataframes": [
      "_sqldf"
     ]
    },
    "pythonIndentUnit": 4
   },
   "notebookName": "Data_Ingestion_C_Nonato",
   "widgets": {}
  },
  "language_info": {
   "name": "python"
  }
 },
 "nbformat": 4,
 "nbformat_minor": 0
}
